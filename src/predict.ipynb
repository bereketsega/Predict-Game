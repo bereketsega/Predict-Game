{
 "cells": [
  {
   "cell_type": "markdown",
   "metadata": {},
   "source": [
    "## A Model to Predict Premier League Games using Poisson Distribution."
   ]
  },
  {
   "cell_type": "code",
   "execution_count": 1,
   "metadata": {},
   "outputs": [],
   "source": [
    "import pandas as pd \n",
    "import math \n",
    "import matplotlib.pyplot as plt\n",
    "from ipywidgets import widgets as wg\n",
    "from IPython.display import display, clear_output "
   ]
  },
  {
   "cell_type": "code",
   "execution_count": 2,
   "metadata": {},
   "outputs": [],
   "source": [
    "pd_tables = pd.read_html(\"https://thefishy.co.uk/leaguetable.php?table=1\")\n",
    "league_table = pd_tables[1];"
   ]
  },
  {
   "cell_type": "code",
   "execution_count": 3,
   "metadata": {},
   "outputs": [],
   "source": [
    "teams_list = league_table[\"Team\"][0:20].values.tolist()\n",
    "league_ave_home_goal = league_table[\"HF\"].mean() / league_table[\"P\"].mean()\n",
    "league_ave_home_conc = league_table[\"HA\"].mean() / league_table[\"P\"].mean()\n",
    "\n",
    "league_ave_away_goal = league_table[\"AF\"].mean() / league_table[\"P\"].mean()\n",
    "league_ave_away_conc = league_table[\"AA\"].mean() / league_table[\"P\"].mean()"
   ]
  },
  {
   "cell_type": "code",
   "execution_count": 4,
   "metadata": {},
   "outputs": [],
   "source": [
    "strength_list = {}\n",
    "\n",
    "def calc_strength(home_team, away_team):\n",
    "\n",
    "    home_team_index = teams_list.index(home_team) \n",
    "    away_team_index = teams_list.index(away_team) \n",
    "\n",
    "    home_team_game_played = league_table[\"P\"][home_team_index]\n",
    "    away_team_game_played = league_table[\"P\"][away_team_index]\n",
    "\n",
    "    home_team_goal = league_table[\"HF\"][home_team_index]\n",
    "    home_team_conc = league_table[\"HA\"][home_team_index]\n",
    "    away_team_goal = league_table[\"AF\"][away_team_index]\n",
    "    away_team_conc = league_table[\"AA\"][away_team_index]\n",
    "\n",
    "    # home team attack strength at home              \n",
    "    home_team_attack_strength = (home_team_goal / home_team_game_played) / league_ave_home_goal\n",
    "\n",
    "    # home team defense strength at home\n",
    "    home_team_defense_strength = (home_team_conc / home_team_game_played) / league_ave_home_conc\n",
    "\n",
    "    # away team attack strength at away\n",
    "    away_team_attack_strength = (away_team_goal / away_team_game_played) / league_ave_away_goal\n",
    "\n",
    "    # away team defense strength at away\n",
    "    away_team_defense_strength = (away_team_conc / away_team_game_played) / league_ave_away_conc\n",
    "\n",
    "    global strength_list\n",
    "    strength_list[\"home_attack_str\"] = home_team_attack_strength\n",
    "    strength_list[\"home_defense_str\"] = home_team_defense_strength\n",
    "    strength_list[\"away_attack_str\"] = away_team_attack_strength\n",
    "    strength_list[\"away_defense_str\"] = away_team_defense_strength"
   ]
  },
  {
   "cell_type": "code",
   "execution_count": 5,
   "metadata": {},
   "outputs": [],
   "source": [
    "exp_goal_ls = {}\n",
    "\n",
    "def calc_goal_expectancy(strength_list):\n",
    "    \n",
    "    home_goal_exp = strength_list[\"home_attack_str\"] * strength_list[\"away_defense_str\"] * league_ave_home_goal\n",
    "    away_goal_exp = strength_list[\"away_attack_str\"] * strength_list[\"home_defense_str\"] * league_ave_away_goal\n",
    "\n",
    "    global exp_goal_ls\n",
    "    exp_goal_ls[\"home_exp_goal\"] = home_goal_exp\n",
    "    exp_goal_ls[\"away_exp_goal\"] = away_goal_exp"
   ]
  },
  {
   "cell_type": "code",
   "execution_count": 6,
   "metadata": {},
   "outputs": [],
   "source": [
    "home_goal_prob = {}\n",
    "away_goal_prob = {}\n",
    "\n",
    "def scoring_probability(exp_goal_ls):\n",
    "\n",
    "    for i in range(10):\n",
    "        \n",
    "        home_goal_prob[i] = float(((exp_goal_ls[\"home_exp_goal\"]**i * (math.e**( -exp_goal_ls[\"home_exp_goal\"]))) \n",
    "        / math.factorial(i))) \n",
    "        \n",
    "        away_goal_prob[i] = float(((exp_goal_ls[\"away_exp_goal\"]**i * (math.e**( -exp_goal_ls[\"away_exp_goal\"]))) \n",
    "        / math.factorial(i)))"
   ]
  },
  {
   "cell_type": "code",
   "execution_count": 7,
   "metadata": {},
   "outputs": [],
   "source": [
    "score_chances = {}\n",
    "\n",
    "def result_chances(home_goal_exp, away_goal_exp):\n",
    "\n",
    "    home_win_perc = 0;\n",
    "    draw_perc = 0;\n",
    "    away_win_perc = 0;\n",
    "    \n",
    "    for i in range(10):\n",
    "        for j in range(10): \n",
    "            score_chances[str(i)+'-'+str(j)] = ((home_goal_exp[i] * away_goal_exp[j]) * 100) \n",
    "            if i > j:\n",
    "                home_win_perc += score_chances[str(i)+'-'+str(j)]\n",
    "            elif i < j:\n",
    "                away_win_perc += score_chances[str(i)+'-'+str(j)]\n",
    "            else:\n",
    "                draw_perc += score_chances[str(i)+'-'+str(j)]\n",
    "\n",
    "    result_chances_ls = {\"home_win\": home_win_perc, \"draw_perc\":draw_perc, \"away_win\": away_win_perc, }  \n",
    "\n",
    "    return result_chances_ls"
   ]
  },
  {
   "cell_type": "code",
   "execution_count": 8,
   "metadata": {},
   "outputs": [],
   "source": [
    "def plot_result_chances(home_team_name, away_team_name, result_chances_ls):\n",
    "    fig = plt.figure(figsize=(10, 6))\n",
    "    results_text = [home_team_name + \" Win\", \"Draw\", away_team_name + \" Win\"]\n",
    "    results_perc = [result_chances_ls[\"home_win\"], result_chances_ls[\"draw_perc\"], result_chances_ls[\"away_win\"]]\n",
    "    graph = plt.bar(results_text, results_perc, color = ['cornflowerblue','wheat','lightcoral'])\n",
    "    for bar in graph:\n",
    "        yval = bar.get_height()\n",
    "        plt.text(bar.get_x() + bar.get_width()/2.0, yval, int(yval))\n",
    "            \n",
    "    plt.xlabel(\"Results\", fontsize = 14)\n",
    "    plt.ylabel(\"Percentage of Chances (%)\", fontsize = 14)\n",
    "    plt.title(\"Percentage of Chances of Win or Draw\", fontsize = 16)\n",
    "    plt.show()"
   ]
  },
  {
   "cell_type": "code",
   "execution_count": 9,
   "metadata": {},
   "outputs": [
    {
     "data": {
      "application/vnd.jupyter.widget-view+json": {
       "model_id": "2cf4552ab0394b28b90abc5b04b848a2",
       "version_major": 2,
       "version_minor": 0
      },
      "text/plain": [
       "Dropdown(description='Home', options=('Arsenal', 'Man City', 'Man Utd', 'Newcastle', 'Tottenham', 'Brighton', …"
      ]
     },
     "metadata": {},
     "output_type": "display_data"
    },
    {
     "data": {
      "application/vnd.jupyter.widget-view+json": {
       "model_id": "3bf72765c3894506ac260e957756c2d6",
       "version_major": 2,
       "version_minor": 0
      },
      "text/plain": [
       "Dropdown(description='Away', index=1, options=('Arsenal', 'Man City', 'Man Utd', 'Newcastle', 'Tottenham', 'Br…"
      ]
     },
     "metadata": {},
     "output_type": "display_data"
    },
    {
     "data": {
      "application/vnd.jupyter.widget-view+json": {
       "model_id": "c83e0d17765b46b8b6489d37f3ca27f3",
       "version_major": 2,
       "version_minor": 0
      },
      "text/plain": [
       "Button(description='Done', style=ButtonStyle())"
      ]
     },
     "metadata": {},
     "output_type": "display_data"
    },
    {
     "data": {
      "application/vnd.jupyter.widget-view+json": {
       "model_id": "336f196f538c46199d6623beafefc2be",
       "version_major": 2,
       "version_minor": 0
      },
      "text/plain": [
       "Output()"
      ]
     },
     "metadata": {},
     "output_type": "display_data"
    }
   ],
   "source": [
    "done_btn = wg.Button(description = 'Done')\n",
    "home_team = wg.Dropdown(description = \"Home\",options = teams_list, value = teams_list[0])\n",
    "away_team = wg.Dropdown(description = \"Away\",options = teams_list, value = teams_list[1])\n",
    "out = wg.Output()\n",
    "\n",
    "display(home_team,away_team,done_btn,out)\n",
    "\n",
    "def done(arg):\n",
    "    with out:\n",
    "        clear_output()\n",
    "        if home_team.value == away_team.value:\n",
    "            print(\"Same Team\")\n",
    "        else:\n",
    "            calc_strength(home_team.value, away_team.value)\n",
    "            calc_goal_expectancy(strength_list)\n",
    "            scoring_probability(exp_goal_ls)\n",
    "            result = result_chances(home_goal_prob, away_goal_prob)\n",
    "            plot_result_chances(home_team.value, away_team.value, result)\n",
    "            \n",
    "done_btn.on_click(done) "
   ]
  },
  {
   "cell_type": "code",
   "execution_count": null,
   "metadata": {},
   "outputs": [],
   "source": []
  }
 ],
 "metadata": {
  "interpreter": {
   "hash": "29781889b7a1a3bf7f25056f43381760a7a95ee74073d357ab84a8b14bcc33e2"
  },
  "kernelspec": {
   "display_name": "Python 3 (ipykernel)",
   "language": "python",
   "name": "python3"
  },
  "language_info": {
   "codemirror_mode": {
    "name": "ipython",
    "version": 3
   },
   "file_extension": ".py",
   "mimetype": "text/x-python",
   "name": "python",
   "nbconvert_exporter": "python",
   "pygments_lexer": "ipython3",
   "version": "3.9.12"
  }
 },
 "nbformat": 4,
 "nbformat_minor": 2
}
